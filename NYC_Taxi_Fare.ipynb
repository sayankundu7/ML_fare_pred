{
 "cells": [
  {
   "cell_type": "code",
   "execution_count": 1,
   "id": "77e89612",
   "metadata": {},
   "outputs": [],
   "source": [
    "import numpy as np\n",
    "import pandas as pd\n",
    "import seaborn as sns\n",
    "import matplotlib.pyplot as plt\n",
    "from geopandas.tools import geocode\n",
    "from math import sqrt,radians,cos,sin,asin\n",
    "import datetime as dte\n",
    "import warnings\n",
    "warnings.filterwarnings('ignore')\n",
    "import pickle"
   ]
  },
  {
   "cell_type": "code",
   "execution_count": 2,
   "id": "34ce0e87",
   "metadata": {},
   "outputs": [],
   "source": [
    "df=pd.read_csv('NYCTaxiFares.csv')"
   ]
  },
  {
   "cell_type": "code",
   "execution_count": 3,
   "id": "3891243d",
   "metadata": {},
   "outputs": [
    {
     "data": {
      "text/html": [
       "<div>\n",
       "<style scoped>\n",
       "    .dataframe tbody tr th:only-of-type {\n",
       "        vertical-align: middle;\n",
       "    }\n",
       "\n",
       "    .dataframe tbody tr th {\n",
       "        vertical-align: top;\n",
       "    }\n",
       "\n",
       "    .dataframe thead th {\n",
       "        text-align: right;\n",
       "    }\n",
       "</style>\n",
       "<table border=\"1\" class=\"dataframe\">\n",
       "  <thead>\n",
       "    <tr style=\"text-align: right;\">\n",
       "      <th></th>\n",
       "      <th>pickup_datetime</th>\n",
       "      <th>fare_amount</th>\n",
       "      <th>fare_class</th>\n",
       "      <th>pickup_longitude</th>\n",
       "      <th>pickup_latitude</th>\n",
       "      <th>dropoff_longitude</th>\n",
       "      <th>dropoff_latitude</th>\n",
       "      <th>passenger_count</th>\n",
       "    </tr>\n",
       "  </thead>\n",
       "  <tbody>\n",
       "    <tr>\n",
       "      <th>0</th>\n",
       "      <td>2010-04-19 08:17:56 UTC</td>\n",
       "      <td>6.5</td>\n",
       "      <td>0</td>\n",
       "      <td>-73.992365</td>\n",
       "      <td>40.730521</td>\n",
       "      <td>-73.975499</td>\n",
       "      <td>40.744746</td>\n",
       "      <td>1</td>\n",
       "    </tr>\n",
       "    <tr>\n",
       "      <th>1</th>\n",
       "      <td>2010-04-17 15:43:53 UTC</td>\n",
       "      <td>6.9</td>\n",
       "      <td>0</td>\n",
       "      <td>-73.990078</td>\n",
       "      <td>40.740558</td>\n",
       "      <td>-73.974232</td>\n",
       "      <td>40.744114</td>\n",
       "      <td>1</td>\n",
       "    </tr>\n",
       "    <tr>\n",
       "      <th>2</th>\n",
       "      <td>2010-04-17 11:23:26 UTC</td>\n",
       "      <td>10.1</td>\n",
       "      <td>1</td>\n",
       "      <td>-73.994149</td>\n",
       "      <td>40.751118</td>\n",
       "      <td>-73.960064</td>\n",
       "      <td>40.766235</td>\n",
       "      <td>2</td>\n",
       "    </tr>\n",
       "    <tr>\n",
       "      <th>3</th>\n",
       "      <td>2010-04-11 21:25:03 UTC</td>\n",
       "      <td>8.9</td>\n",
       "      <td>0</td>\n",
       "      <td>-73.990485</td>\n",
       "      <td>40.756422</td>\n",
       "      <td>-73.971205</td>\n",
       "      <td>40.748192</td>\n",
       "      <td>1</td>\n",
       "    </tr>\n",
       "    <tr>\n",
       "      <th>4</th>\n",
       "      <td>2010-04-17 02:19:01 UTC</td>\n",
       "      <td>19.7</td>\n",
       "      <td>1</td>\n",
       "      <td>-73.990976</td>\n",
       "      <td>40.734202</td>\n",
       "      <td>-73.905956</td>\n",
       "      <td>40.743115</td>\n",
       "      <td>1</td>\n",
       "    </tr>\n",
       "  </tbody>\n",
       "</table>\n",
       "</div>"
      ],
      "text/plain": [
       "           pickup_datetime  fare_amount  fare_class  pickup_longitude  \\\n",
       "0  2010-04-19 08:17:56 UTC          6.5           0        -73.992365   \n",
       "1  2010-04-17 15:43:53 UTC          6.9           0        -73.990078   \n",
       "2  2010-04-17 11:23:26 UTC         10.1           1        -73.994149   \n",
       "3  2010-04-11 21:25:03 UTC          8.9           0        -73.990485   \n",
       "4  2010-04-17 02:19:01 UTC         19.7           1        -73.990976   \n",
       "\n",
       "   pickup_latitude  dropoff_longitude  dropoff_latitude  passenger_count  \n",
       "0        40.730521         -73.975499         40.744746                1  \n",
       "1        40.740558         -73.974232         40.744114                1  \n",
       "2        40.751118         -73.960064         40.766235                2  \n",
       "3        40.756422         -73.971205         40.748192                1  \n",
       "4        40.734202         -73.905956         40.743115                1  "
      ]
     },
     "execution_count": 3,
     "metadata": {},
     "output_type": "execute_result"
    }
   ],
   "source": [
    "df.head(5)"
   ]
  },
  {
   "cell_type": "code",
   "execution_count": 4,
   "id": "6d3ed1d6",
   "metadata": {},
   "outputs": [
    {
     "name": "stdout",
     "output_type": "stream",
     "text": [
      "<class 'pandas.core.frame.DataFrame'>\n",
      "RangeIndex: 120000 entries, 0 to 119999\n",
      "Data columns (total 8 columns):\n",
      " #   Column             Non-Null Count   Dtype  \n",
      "---  ------             --------------   -----  \n",
      " 0   pickup_datetime    120000 non-null  object \n",
      " 1   fare_amount        120000 non-null  float64\n",
      " 2   fare_class         120000 non-null  int64  \n",
      " 3   pickup_longitude   120000 non-null  float64\n",
      " 4   pickup_latitude    120000 non-null  float64\n",
      " 5   dropoff_longitude  120000 non-null  float64\n",
      " 6   dropoff_latitude   120000 non-null  float64\n",
      " 7   passenger_count    120000 non-null  int64  \n",
      "dtypes: float64(5), int64(2), object(1)\n",
      "memory usage: 7.3+ MB\n"
     ]
    }
   ],
   "source": [
    "df.info()"
   ]
  },
  {
   "cell_type": "code",
   "execution_count": 5,
   "id": "4091a3dd",
   "metadata": {
    "scrolled": true
   },
   "outputs": [
    {
     "data": {
      "text/html": [
       "<div>\n",
       "<style scoped>\n",
       "    .dataframe tbody tr th:only-of-type {\n",
       "        vertical-align: middle;\n",
       "    }\n",
       "\n",
       "    .dataframe tbody tr th {\n",
       "        vertical-align: top;\n",
       "    }\n",
       "\n",
       "    .dataframe thead th {\n",
       "        text-align: right;\n",
       "    }\n",
       "</style>\n",
       "<table border=\"1\" class=\"dataframe\">\n",
       "  <thead>\n",
       "    <tr style=\"text-align: right;\">\n",
       "      <th></th>\n",
       "      <th>fare_amount</th>\n",
       "      <th>fare_class</th>\n",
       "      <th>pickup_longitude</th>\n",
       "      <th>pickup_latitude</th>\n",
       "      <th>dropoff_longitude</th>\n",
       "      <th>dropoff_latitude</th>\n",
       "      <th>passenger_count</th>\n",
       "    </tr>\n",
       "  </thead>\n",
       "  <tbody>\n",
       "    <tr>\n",
       "      <th>count</th>\n",
       "      <td>120000.000000</td>\n",
       "      <td>120000.000000</td>\n",
       "      <td>120000.000000</td>\n",
       "      <td>120000.000000</td>\n",
       "      <td>120000.000000</td>\n",
       "      <td>120000.000000</td>\n",
       "      <td>120000.000000</td>\n",
       "    </tr>\n",
       "    <tr>\n",
       "      <th>mean</th>\n",
       "      <td>10.040326</td>\n",
       "      <td>0.333333</td>\n",
       "      <td>-73.976626</td>\n",
       "      <td>40.751443</td>\n",
       "      <td>-73.974501</td>\n",
       "      <td>40.751695</td>\n",
       "      <td>1.347167</td>\n",
       "    </tr>\n",
       "    <tr>\n",
       "      <th>std</th>\n",
       "      <td>7.500134</td>\n",
       "      <td>0.471406</td>\n",
       "      <td>0.031497</td>\n",
       "      <td>0.025821</td>\n",
       "      <td>0.032419</td>\n",
       "      <td>0.030279</td>\n",
       "      <td>0.759263</td>\n",
       "    </tr>\n",
       "    <tr>\n",
       "      <th>min</th>\n",
       "      <td>2.500000</td>\n",
       "      <td>0.000000</td>\n",
       "      <td>-74.465447</td>\n",
       "      <td>40.121653</td>\n",
       "      <td>-74.443323</td>\n",
       "      <td>40.164927</td>\n",
       "      <td>1.000000</td>\n",
       "    </tr>\n",
       "    <tr>\n",
       "      <th>25%</th>\n",
       "      <td>5.700000</td>\n",
       "      <td>0.000000</td>\n",
       "      <td>-73.992386</td>\n",
       "      <td>40.736594</td>\n",
       "      <td>-73.991478</td>\n",
       "      <td>40.735914</td>\n",
       "      <td>1.000000</td>\n",
       "    </tr>\n",
       "    <tr>\n",
       "      <th>50%</th>\n",
       "      <td>7.700000</td>\n",
       "      <td>0.000000</td>\n",
       "      <td>-73.982084</td>\n",
       "      <td>40.753661</td>\n",
       "      <td>-73.980411</td>\n",
       "      <td>40.754441</td>\n",
       "      <td>1.000000</td>\n",
       "    </tr>\n",
       "    <tr>\n",
       "      <th>75%</th>\n",
       "      <td>11.300000</td>\n",
       "      <td>1.000000</td>\n",
       "      <td>-73.968710</td>\n",
       "      <td>40.768020</td>\n",
       "      <td>-73.965500</td>\n",
       "      <td>40.768880</td>\n",
       "      <td>1.000000</td>\n",
       "    </tr>\n",
       "    <tr>\n",
       "      <th>max</th>\n",
       "      <td>49.900000</td>\n",
       "      <td>1.000000</td>\n",
       "      <td>-73.311845</td>\n",
       "      <td>40.981292</td>\n",
       "      <td>-73.496140</td>\n",
       "      <td>40.993498</td>\n",
       "      <td>5.000000</td>\n",
       "    </tr>\n",
       "  </tbody>\n",
       "</table>\n",
       "</div>"
      ],
      "text/plain": [
       "         fare_amount     fare_class  pickup_longitude  pickup_latitude  \\\n",
       "count  120000.000000  120000.000000     120000.000000    120000.000000   \n",
       "mean       10.040326       0.333333        -73.976626        40.751443   \n",
       "std         7.500134       0.471406          0.031497         0.025821   \n",
       "min         2.500000       0.000000        -74.465447        40.121653   \n",
       "25%         5.700000       0.000000        -73.992386        40.736594   \n",
       "50%         7.700000       0.000000        -73.982084        40.753661   \n",
       "75%        11.300000       1.000000        -73.968710        40.768020   \n",
       "max        49.900000       1.000000        -73.311845        40.981292   \n",
       "\n",
       "       dropoff_longitude  dropoff_latitude  passenger_count  \n",
       "count      120000.000000     120000.000000    120000.000000  \n",
       "mean          -73.974501         40.751695         1.347167  \n",
       "std             0.032419          0.030279         0.759263  \n",
       "min           -74.443323         40.164927         1.000000  \n",
       "25%           -73.991478         40.735914         1.000000  \n",
       "50%           -73.980411         40.754441         1.000000  \n",
       "75%           -73.965500         40.768880         1.000000  \n",
       "max           -73.496140         40.993498         5.000000  "
      ]
     },
     "execution_count": 5,
     "metadata": {},
     "output_type": "execute_result"
    }
   ],
   "source": [
    "df.describe()"
   ]
  },
  {
   "cell_type": "code",
   "execution_count": null,
   "id": "550d2569",
   "metadata": {},
   "outputs": [],
   "source": []
  },
  {
   "cell_type": "code",
   "execution_count": 6,
   "id": "26e217b4",
   "metadata": {},
   "outputs": [
    {
     "data": {
      "text/plain": [
       "pickup_datetime      0\n",
       "fare_amount          0\n",
       "fare_class           0\n",
       "pickup_longitude     0\n",
       "pickup_latitude      0\n",
       "dropoff_longitude    0\n",
       "dropoff_latitude     0\n",
       "passenger_count      0\n",
       "dtype: int64"
      ]
     },
     "execution_count": 6,
     "metadata": {},
     "output_type": "execute_result"
    }
   ],
   "source": [
    "#Cheeking null values\n",
    "\n",
    "df.isnull().sum()"
   ]
  },
  {
   "cell_type": "code",
   "execution_count": 7,
   "id": "f3a62992",
   "metadata": {},
   "outputs": [
    {
     "data": {
      "text/plain": [
       "0"
      ]
     },
     "execution_count": 7,
     "metadata": {},
     "output_type": "execute_result"
    }
   ],
   "source": [
    "df.duplicated().sum()"
   ]
  },
  {
   "cell_type": "markdown",
   "id": "c15d7733",
   "metadata": {},
   "source": [
    "### Feature Engineering"
   ]
  },
  {
   "cell_type": "code",
   "execution_count": 8,
   "id": "6427e4d2",
   "metadata": {},
   "outputs": [],
   "source": [
    "df['pickup_datetime']=pd.to_datetime(df['pickup_datetime'])"
   ]
  },
  {
   "cell_type": "code",
   "execution_count": 9,
   "id": "a6941467",
   "metadata": {},
   "outputs": [
    {
     "data": {
      "text/plain": [
       "pickup_datetime      datetime64[ns, UTC]\n",
       "fare_amount                      float64\n",
       "fare_class                         int64\n",
       "pickup_longitude                 float64\n",
       "pickup_latitude                  float64\n",
       "dropoff_longitude                float64\n",
       "dropoff_latitude                 float64\n",
       "passenger_count                    int64\n",
       "dtype: object"
      ]
     },
     "execution_count": 9,
     "metadata": {},
     "output_type": "execute_result"
    }
   ],
   "source": [
    "df.dtypes"
   ]
  },
  {
   "cell_type": "code",
   "execution_count": 10,
   "id": "e36c8b44",
   "metadata": {},
   "outputs": [],
   "source": [
    "#Calculating Distance from Latitude and Longitude using haversine formula\n",
    "\n",
    "def dist(lo1,lo2,la1,la2):\n",
    "    lo1=radians(lo1)\n",
    "    lo2=radians(lo2)\n",
    "    la1=radians(la1)\n",
    "    la2=radians(la2)\n",
    "    dlo=lo2-lo1\n",
    "    dla=la2-la1\n",
    "    a=sin(dla/2)**2+cos(la1)*cos(la2)*sin(dlo/2)**2\n",
    "    c=2*asin(sqrt(a))\n",
    "    r=6371\n",
    "    return(round(c*r,2))\n",
    "d=[]\n",
    "for i in range(df.shape[0]):\n",
    "    d.append(dist(df['pickup_latitude'][i],\n",
    "                df['dropoff_latitude'][i],\n",
    "                df['pickup_longitude'][i],\n",
    "                df['dropoff_longitude'][i]))"
   ]
  },
  {
   "cell_type": "code",
   "execution_count": 11,
   "id": "6043d922",
   "metadata": {},
   "outputs": [],
   "source": [
    "df['Dist in kms']=d"
   ]
  },
  {
   "cell_type": "code",
   "execution_count": 12,
   "id": "733bd84f",
   "metadata": {},
   "outputs": [
    {
     "data": {
      "text/plain": [
       "Index(['pickup_datetime', 'fare_amount', 'fare_class', 'pickup_longitude',\n",
       "       'pickup_latitude', 'dropoff_longitude', 'dropoff_latitude',\n",
       "       'passenger_count', 'Dist in kms'],\n",
       "      dtype='object')"
      ]
     },
     "execution_count": 12,
     "metadata": {},
     "output_type": "execute_result"
    }
   ],
   "source": [
    "df.columns"
   ]
  },
  {
   "cell_type": "code",
   "execution_count": 13,
   "id": "8ca4de25",
   "metadata": {},
   "outputs": [],
   "source": [
    "#Dropping Lattitude and Longitude\n",
    "\n",
    "df.drop(['pickup_latitude','pickup_longitude','dropoff_latitude','dropoff_longitude'],axis=1,inplace=True)"
   ]
  },
  {
   "cell_type": "code",
   "execution_count": 14,
   "id": "b736f710",
   "metadata": {},
   "outputs": [
    {
     "data": {
      "text/html": [
       "<div>\n",
       "<style scoped>\n",
       "    .dataframe tbody tr th:only-of-type {\n",
       "        vertical-align: middle;\n",
       "    }\n",
       "\n",
       "    .dataframe tbody tr th {\n",
       "        vertical-align: top;\n",
       "    }\n",
       "\n",
       "    .dataframe thead th {\n",
       "        text-align: right;\n",
       "    }\n",
       "</style>\n",
       "<table border=\"1\" class=\"dataframe\">\n",
       "  <thead>\n",
       "    <tr style=\"text-align: right;\">\n",
       "      <th></th>\n",
       "      <th>pickup_datetime</th>\n",
       "      <th>fare_amount</th>\n",
       "      <th>fare_class</th>\n",
       "      <th>passenger_count</th>\n",
       "      <th>Dist in kms</th>\n",
       "    </tr>\n",
       "  </thead>\n",
       "  <tbody>\n",
       "    <tr>\n",
       "      <th>0</th>\n",
       "      <td>2010-04-19 08:17:56+00:00</td>\n",
       "      <td>6.5</td>\n",
       "      <td>0</td>\n",
       "      <td>1</td>\n",
       "      <td>1.93</td>\n",
       "    </tr>\n",
       "    <tr>\n",
       "      <th>1</th>\n",
       "      <td>2010-04-17 15:43:53+00:00</td>\n",
       "      <td>6.9</td>\n",
       "      <td>0</td>\n",
       "      <td>1</td>\n",
       "      <td>1.77</td>\n",
       "    </tr>\n",
       "    <tr>\n",
       "      <th>2</th>\n",
       "      <td>2010-04-17 11:23:26+00:00</td>\n",
       "      <td>10.1</td>\n",
       "      <td>1</td>\n",
       "      <td>2</td>\n",
       "      <td>3.82</td>\n",
       "    </tr>\n",
       "    <tr>\n",
       "      <th>3</th>\n",
       "      <td>2010-04-11 21:25:03+00:00</td>\n",
       "      <td>8.9</td>\n",
       "      <td>0</td>\n",
       "      <td>1</td>\n",
       "      <td>2.16</td>\n",
       "    </tr>\n",
       "    <tr>\n",
       "      <th>4</th>\n",
       "      <td>2010-04-17 02:19:01+00:00</td>\n",
       "      <td>19.7</td>\n",
       "      <td>1</td>\n",
       "      <td>1</td>\n",
       "      <td>9.46</td>\n",
       "    </tr>\n",
       "  </tbody>\n",
       "</table>\n",
       "</div>"
      ],
      "text/plain": [
       "            pickup_datetime  fare_amount  fare_class  passenger_count  \\\n",
       "0 2010-04-19 08:17:56+00:00          6.5           0                1   \n",
       "1 2010-04-17 15:43:53+00:00          6.9           0                1   \n",
       "2 2010-04-17 11:23:26+00:00         10.1           1                2   \n",
       "3 2010-04-11 21:25:03+00:00          8.9           0                1   \n",
       "4 2010-04-17 02:19:01+00:00         19.7           1                1   \n",
       "\n",
       "   Dist in kms  \n",
       "0         1.93  \n",
       "1         1.77  \n",
       "2         3.82  \n",
       "3         2.16  \n",
       "4         9.46  "
      ]
     },
     "execution_count": 14,
     "metadata": {},
     "output_type": "execute_result"
    }
   ],
   "source": [
    "df.head()"
   ]
  },
  {
   "cell_type": "code",
   "execution_count": 15,
   "id": "eb9dcc61",
   "metadata": {},
   "outputs": [],
   "source": [
    "#Extracting Week day from date time\n",
    "\n",
    "week={0:\"Sunday\",1:\"Monday\",2:\"Tuesday\",3:\"Wednesday\",4:\"Thursday\",5:\"Friday\",6:\"Saturday\"}\n",
    "\n",
    "df['day_name']=df['pickup_datetime'].dt.weekday.map(week)"
   ]
  },
  {
   "cell_type": "code",
   "execution_count": 16,
   "id": "e2dbb185",
   "metadata": {},
   "outputs": [
    {
     "data": {
      "image/png": "[encoded data removed]",
      "text/plain": [
       "<Figure size 1200x800 with 1 Axes>"
      ]
     },
     "metadata": {},
     "output_type": "display_data"
    }
   ],
   "source": [
    "plt.figure(figsize=(12,8))\n",
    "df.groupby('day_name')['fare_amount'].sum().sort_values().plot(kind='line')\n",
    "plt.grid()\n",
    "plt.xlabel('week day')\n",
    "plt.ylabel('Total amount')\n",
    "plt.show()"
   ]
  },
  {
   "cell_type": "code",
   "execution_count": 17,
   "id": "61048b5a",
   "metadata": {},
   "outputs": [],
   "source": [
    "#Encoding days based on the plot\n",
    "\n",
    "week_encoded={\"Sunday\": 1, \"Saturday\": 2, \"Monday\": 3, \"Tuesday\": 4, \"Friday\": 5, \"Wednesday\": 6, \"Thursday\": 7}\n",
    "\n",
    "df['day_name_ranked']=df['day_name'].map(week_encoded)"
   ]
  },
  {
   "cell_type": "code",
   "execution_count": 18,
   "id": "fa9be041",
   "metadata": {},
   "outputs": [],
   "source": [
    "weekend_encode={\"Sunday\": 1, \"Saturday\": 1, \"Monday\": 0, \"Tuesday\": 0, \"Friday\": 0, \"Wednesday\": 0, \"Thursday\": 0}\n",
    "\n",
    "df['IsWeekend']=df['day_name'].map(weekend_encode)"
   ]
  },
  {
   "cell_type": "code",
   "execution_count": 19,
   "id": "d5dedd5a",
   "metadata": {},
   "outputs": [],
   "source": [
    "#creating hour column\n",
    "\n",
    "df['Hour']=df['pickup_datetime'].dt.hour"
   ]
  },
  {
   "cell_type": "code",
   "execution_count": 20,
   "id": "7e71fc8d",
   "metadata": {},
   "outputs": [],
   "source": [
    "#creating day of month wise column\n",
    "\n",
    "df['day_of_month']=df['pickup_datetime'].dt.day"
   ]
  },
  {
   "cell_type": "code",
   "execution_count": null,
   "id": "8bcedaf6",
   "metadata": {},
   "outputs": [],
   "source": []
  },
  {
   "cell_type": "code",
   "execution_count": null,
   "id": "854c7711",
   "metadata": {},
   "outputs": [],
   "source": []
  },
  {
   "cell_type": "markdown",
   "id": "a4d40ad8",
   "metadata": {},
   "source": [
    "### Visualizations"
   ]
  },
  {
   "cell_type": "code",
   "execution_count": 21,
   "id": "779349e0",
   "metadata": {},
   "outputs": [
    {
     "data": {
      "image/png": "[encoded data removed]",
      "text/plain": [
       "<Figure size 1200x800 with 1 Axes>"
      ]
     },
     "metadata": {},
     "output_type": "display_data"
    }
   ],
   "source": [
    "# hour wise fare amount\n",
    "\n",
    "plt.figure(figsize=(12,8))\n",
    "df.groupby('Hour')['fare_amount'].sum().plot()\n",
    "plt.grid()\n",
    "plt.xlabel('Hour')\n",
    "plt.ylabel('sum of fare')\n",
    "plt.show()"
   ]
  },
  {
   "cell_type": "markdown",
   "id": "109d7f46",
   "metadata": {},
   "source": [
    "###### Highest fare collected was around 6:00pm UTC"
   ]
  },
  {
   "cell_type": "markdown",
   "id": "5c34cd24",
   "metadata": {},
   "source": [
    "###### "
   ]
  },
  {
   "cell_type": "code",
   "execution_count": 22,
   "id": "344a29b9",
   "metadata": {},
   "outputs": [],
   "source": [
    "#day wise total fare amount\n",
    "\n",
    "date=[]\n",
    "fare=[]\n",
    "for day in list(df['pickup_datetime'].dt.day.sort_values().unique()):\n",
    "    date.append('Date:'+str(day))\n",
    "    fare.append(df[df.pickup_datetime.dt.day==day].fare_amount.sum())"
   ]
  },
  {
   "cell_type": "code",
   "execution_count": 23,
   "id": "2269dbe6",
   "metadata": {},
   "outputs": [
    {
     "data": {
      "image/png": "[encoded data removed]",
      "text/plain": [
       "<Figure size 1200x600 with 1 Axes>"
      ]
     },
     "metadata": {},
     "output_type": "display_data"
    }
   ],
   "source": [
    "plt.figure(figsize=(12,6))\n",
    "ax=sns.barplot(x=date,y=fare)\n",
    "plt.xlabel('Dates')\n",
    "plt.ylabel('Total Fare of the day')\n",
    "plt.xticks(rotation=45)\n",
    "ax.bar_label(ax.containers[0])\n",
    "plt.show()"
   ]
  },
  {
   "cell_type": "markdown",
   "id": "53e1b9db",
   "metadata": {},
   "source": [
    "###### the Highest collection of fare was on 16th of that month which was (94096)"
   ]
  },
  {
   "cell_type": "markdown",
   "id": "70841456",
   "metadata": {},
   "source": [
    "##### "
   ]
  },
  {
   "cell_type": "code",
   "execution_count": 24,
   "id": "995444ad",
   "metadata": {},
   "outputs": [
    {
     "data": {
      "text/plain": [
       "<AxesSubplot:xlabel='fare_class'>"
      ]
     },
     "execution_count": 24,
     "metadata": {},
     "output_type": "execute_result"
    },
    {
     "data": {
      "image/png": "[encoded data removed]",
      "text/plain": [
       "<Figure size 640x480 with 1 Axes>"
      ]
     },
     "metadata": {},
     "output_type": "display_data"
    }
   ],
   "source": [
    "#no of booking by different class with different passeneger count\n",
    "\n",
    "pd.crosstab(df['fare_class'],df['passenger_count']).plot(kind='bar')"
   ]
  },
  {
   "cell_type": "markdown",
   "id": "ef7f9fca",
   "metadata": {},
   "source": [
    "##### Highest no. of rides requested was with class 0, and mostly all rides was with single rider"
   ]
  },
  {
   "cell_type": "markdown",
   "id": "a2d779e2",
   "metadata": {},
   "source": [
    "###### "
   ]
  },
  {
   "cell_type": "code",
   "execution_count": 25,
   "id": "b0e74bc8",
   "metadata": {},
   "outputs": [
    {
     "data": {
      "text/plain": [
       "<AxesSubplot:xlabel='day_name', ylabel='Fare Amount'>"
      ]
     },
     "execution_count": 25,
     "metadata": {},
     "output_type": "execute_result"
    },
    {
     "data": {
      "image/png": "[encoded data removed]",
      "text/plain": [
       "<Figure size 640x480 with 1 Axes>"
      ]
     },
     "metadata": {},
     "output_type": "display_data"
    }
   ],
   "source": [
    "# Class wise total fare amount\n",
    "\n",
    "pd.crosstab(df['day_name'],df['fare_class']).plot(kind='bar',ylabel='Fare Amount')"
   ]
  },
  {
   "cell_type": "code",
   "execution_count": null,
   "id": "a889a17d",
   "metadata": {},
   "outputs": [],
   "source": []
  },
  {
   "cell_type": "markdown",
   "id": "971830aa",
   "metadata": {},
   "source": [
    "###### Highest fare amount of both fare class was collected on Thursday"
   ]
  },
  {
   "cell_type": "markdown",
   "id": "51007bd7",
   "metadata": {},
   "source": [
    "#### "
   ]
  },
  {
   "cell_type": "code",
   "execution_count": 26,
   "id": "ba9d5ded",
   "metadata": {},
   "outputs": [
    {
     "data": {
      "text/plain": [
       "<AxesSubplot:ylabel='fare_amount'>"
      ]
     },
     "execution_count": 26,
     "metadata": {},
     "output_type": "execute_result"
    },
    {
     "data": {
      "image/png": "[encoded data removed]",
      "text/plain": [
       "<Figure size 640x480 with 1 Axes>"
      ]
     },
     "metadata": {},
     "output_type": "display_data"
    }
   ],
   "source": [
    "# Total Fare amount of different days in a week\n",
    "\n",
    "df.groupby('day_name')['fare_amount'].sum().plot(\n",
    "    kind='pie',autopct='%.2f',explode=[0,0,0,0,0,0,0.1]\n",
    "    ,shadow=True)"
   ]
  },
  {
   "cell_type": "code",
   "execution_count": 27,
   "id": "08e6fbe4",
   "metadata": {},
   "outputs": [
    {
     "data": {
      "text/plain": [
       "<AxesSubplot:xlabel='Hour', ylabel='No. of Rides booked'>"
      ]
     },
     "execution_count": 27,
     "metadata": {},
     "output_type": "execute_result"
    },
    {
     "data": {
      "image/png": "[encoded data removed]",
      "text/plain": [
       "<Figure size 640x480 with 1 Axes>"
      ]
     },
     "metadata": {},
     "output_type": "display_data"
    }
   ],
   "source": [
    "# Hour wise no. of rides booked\n",
    "\n",
    "df['Hour'].value_counts().plot(kind='bar',xlabel='Hour'\n",
    "                               ,ylabel='No. of Rides booked')"
   ]
  },
  {
   "cell_type": "markdown",
   "id": "b484f70b",
   "metadata": {},
   "source": [
    "##### No. of rides was on peak by 7.00PM"
   ]
  },
  {
   "cell_type": "code",
   "execution_count": 28,
   "id": "e4978a62",
   "metadata": {},
   "outputs": [],
   "source": [
    "# Function to determine hour type\n",
    "def determine_hour_type(total_fare):\n",
    "    if total_fare > 6000:\n",
    "        return 'peak_hour'\n",
    "    elif 2000 <= total_fare <= 6000:\n",
    "        return 'medium_hour'\n",
    "    else:\n",
    "        return 'low_hour'"
   ]
  },
  {
   "cell_type": "code",
   "execution_count": 29,
   "id": "b588a882",
   "metadata": {},
   "outputs": [],
   "source": [
    "# Create new 'hour_type' column\n",
    "df['hour_type'] = df.groupby('Hour')['fare_amount'].transform('sum').apply(determine_hour_type)"
   ]
  },
  {
   "cell_type": "code",
   "execution_count": 30,
   "id": "e0c8125e",
   "metadata": {},
   "outputs": [],
   "source": [
    "# Encoding the 'hour_type' column\n",
    "hour_type_mapping = {'low_hour': 0, 'medium_hour': 1, 'peak_hour': 2}\n",
    "df['hour_type'] = df['hour_type'].map(hour_type_mapping)\n"
   ]
  },
  {
   "cell_type": "code",
   "execution_count": 31,
   "id": "5074eeec",
   "metadata": {},
   "outputs": [
    {
     "data": {
      "text/html": [
       "<div>\n",
       "<style scoped>\n",
       "    .dataframe tbody tr th:only-of-type {\n",
       "        vertical-align: middle;\n",
       "    }\n",
       "\n",
       "    .dataframe tbody tr th {\n",
       "        vertical-align: top;\n",
       "    }\n",
       "\n",
       "    .dataframe thead th {\n",
       "        text-align: right;\n",
       "    }\n",
       "</style>\n",
       "<table border=\"1\" class=\"dataframe\">\n",
       "  <thead>\n",
       "    <tr style=\"text-align: right;\">\n",
       "      <th></th>\n",
       "      <th>pickup_datetime</th>\n",
       "      <th>fare_amount</th>\n",
       "      <th>fare_class</th>\n",
       "      <th>passenger_count</th>\n",
       "      <th>Dist in kms</th>\n",
       "      <th>day_name</th>\n",
       "      <th>day_name_ranked</th>\n",
       "      <th>IsWeekend</th>\n",
       "      <th>Hour</th>\n",
       "      <th>day_of_month</th>\n",
       "      <th>hour_type</th>\n",
       "    </tr>\n",
       "  </thead>\n",
       "  <tbody>\n",
       "    <tr>\n",
       "      <th>0</th>\n",
       "      <td>2010-04-19 08:17:56+00:00</td>\n",
       "      <td>6.5</td>\n",
       "      <td>0</td>\n",
       "      <td>1</td>\n",
       "      <td>1.93</td>\n",
       "      <td>Sunday</td>\n",
       "      <td>1</td>\n",
       "      <td>1</td>\n",
       "      <td>8</td>\n",
       "      <td>19</td>\n",
       "      <td>2</td>\n",
       "    </tr>\n",
       "    <tr>\n",
       "      <th>1</th>\n",
       "      <td>2010-04-17 15:43:53+00:00</td>\n",
       "      <td>6.9</td>\n",
       "      <td>0</td>\n",
       "      <td>1</td>\n",
       "      <td>1.77</td>\n",
       "      <td>Friday</td>\n",
       "      <td>5</td>\n",
       "      <td>0</td>\n",
       "      <td>15</td>\n",
       "      <td>17</td>\n",
       "      <td>2</td>\n",
       "    </tr>\n",
       "    <tr>\n",
       "      <th>2</th>\n",
       "      <td>2010-04-17 11:23:26+00:00</td>\n",
       "      <td>10.1</td>\n",
       "      <td>1</td>\n",
       "      <td>2</td>\n",
       "      <td>3.82</td>\n",
       "      <td>Friday</td>\n",
       "      <td>5</td>\n",
       "      <td>0</td>\n",
       "      <td>11</td>\n",
       "      <td>17</td>\n",
       "      <td>2</td>\n",
       "    </tr>\n",
       "    <tr>\n",
       "      <th>3</th>\n",
       "      <td>2010-04-11 21:25:03+00:00</td>\n",
       "      <td>8.9</td>\n",
       "      <td>0</td>\n",
       "      <td>1</td>\n",
       "      <td>2.16</td>\n",
       "      <td>Saturday</td>\n",
       "      <td>2</td>\n",
       "      <td>1</td>\n",
       "      <td>21</td>\n",
       "      <td>11</td>\n",
       "      <td>2</td>\n",
       "    </tr>\n",
       "    <tr>\n",
       "      <th>4</th>\n",
       "      <td>2010-04-17 02:19:01+00:00</td>\n",
       "      <td>19.7</td>\n",
       "      <td>1</td>\n",
       "      <td>1</td>\n",
       "      <td>9.46</td>\n",
       "      <td>Friday</td>\n",
       "      <td>5</td>\n",
       "      <td>0</td>\n",
       "      <td>2</td>\n",
       "      <td>17</td>\n",
       "      <td>2</td>\n",
       "    </tr>\n",
       "  </tbody>\n",
       "</table>\n",
       "</div>"
      ],
      "text/plain": [
       "            pickup_datetime  fare_amount  fare_class  passenger_count  \\\n",
       "0 2010-04-19 08:17:56+00:00          6.5           0                1   \n",
       "1 2010-04-17 15:43:53+00:00          6.9           0                1   \n",
       "2 2010-04-17 11:23:26+00:00         10.1           1                2   \n",
       "3 2010-04-11 21:25:03+00:00          8.9           0                1   \n",
       "4 2010-04-17 02:19:01+00:00         19.7           1                1   \n",
       "\n",
       "   Dist in kms  day_name  day_name_ranked  IsWeekend  Hour  day_of_month  \\\n",
       "0         1.93    Sunday                1          1     8            19   \n",
       "1         1.77    Friday                5          0    15            17   \n",
       "2         3.82    Friday                5          0    11            17   \n",
       "3         2.16  Saturday                2          1    21            11   \n",
       "4         9.46    Friday                5          0     2            17   \n",
       "\n",
       "   hour_type  \n",
       "0          2  \n",
       "1          2  \n",
       "2          2  \n",
       "3          2  \n",
       "4          2  "
      ]
     },
     "execution_count": 31,
     "metadata": {},
     "output_type": "execute_result"
    }
   ],
   "source": [
    "df.head()"
   ]
  },
  {
   "cell_type": "markdown",
   "id": "857f4fb6",
   "metadata": {},
   "source": [
    "##### "
   ]
  },
  {
   "cell_type": "code",
   "execution_count": 32,
   "id": "8c5cb2a5",
   "metadata": {},
   "outputs": [],
   "source": [
    "df.drop('pickup_datetime',axis=1,inplace=True)"
   ]
  },
  {
   "cell_type": "code",
   "execution_count": 33,
   "id": "2b9f5b39",
   "metadata": {},
   "outputs": [
    {
     "data": {
      "text/html": [
       "<div>\n",
       "<style scoped>\n",
       "    .dataframe tbody tr th:only-of-type {\n",
       "        vertical-align: middle;\n",
       "    }\n",
       "\n",
       "    .dataframe tbody tr th {\n",
       "        vertical-align: top;\n",
       "    }\n",
       "\n",
       "    .dataframe thead th {\n",
       "        text-align: right;\n",
       "    }\n",
       "</style>\n",
       "<table border=\"1\" class=\"dataframe\">\n",
       "  <thead>\n",
       "    <tr style=\"text-align: right;\">\n",
       "      <th></th>\n",
       "      <th>fare_amount</th>\n",
       "      <th>fare_class</th>\n",
       "      <th>passenger_count</th>\n",
       "      <th>Dist in kms</th>\n",
       "      <th>day_name</th>\n",
       "      <th>day_name_ranked</th>\n",
       "      <th>IsWeekend</th>\n",
       "      <th>Hour</th>\n",
       "      <th>day_of_month</th>\n",
       "      <th>hour_type</th>\n",
       "    </tr>\n",
       "  </thead>\n",
       "  <tbody>\n",
       "    <tr>\n",
       "      <th>0</th>\n",
       "      <td>6.5</td>\n",
       "      <td>0</td>\n",
       "      <td>1</td>\n",
       "      <td>1.93</td>\n",
       "      <td>Sunday</td>\n",
       "      <td>1</td>\n",
       "      <td>1</td>\n",
       "      <td>8</td>\n",
       "      <td>19</td>\n",
       "      <td>2</td>\n",
       "    </tr>\n",
       "    <tr>\n",
       "      <th>1</th>\n",
       "      <td>6.9</td>\n",
       "      <td>0</td>\n",
       "      <td>1</td>\n",
       "      <td>1.77</td>\n",
       "      <td>Friday</td>\n",
       "      <td>5</td>\n",
       "      <td>0</td>\n",
       "      <td>15</td>\n",
       "      <td>17</td>\n",
       "      <td>2</td>\n",
       "    </tr>\n",
       "    <tr>\n",
       "      <th>2</th>\n",
       "      <td>10.1</td>\n",
       "      <td>1</td>\n",
       "      <td>2</td>\n",
       "      <td>3.82</td>\n",
       "      <td>Friday</td>\n",
       "      <td>5</td>\n",
       "      <td>0</td>\n",
       "      <td>11</td>\n",
       "      <td>17</td>\n",
       "      <td>2</td>\n",
       "    </tr>\n",
       "    <tr>\n",
       "      <th>3</th>\n",
       "      <td>8.9</td>\n",
       "      <td>0</td>\n",
       "      <td>1</td>\n",
       "      <td>2.16</td>\n",
       "      <td>Saturday</td>\n",
       "      <td>2</td>\n",
       "      <td>1</td>\n",
       "      <td>21</td>\n",
       "      <td>11</td>\n",
       "      <td>2</td>\n",
       "    </tr>\n",
       "    <tr>\n",
       "      <th>4</th>\n",
       "      <td>19.7</td>\n",
       "      <td>1</td>\n",
       "      <td>1</td>\n",
       "      <td>9.46</td>\n",
       "      <td>Friday</td>\n",
       "      <td>5</td>\n",
       "      <td>0</td>\n",
       "      <td>2</td>\n",
       "      <td>17</td>\n",
       "      <td>2</td>\n",
       "    </tr>\n",
       "  </tbody>\n",
       "</table>\n",
       "</div>"
      ],
      "text/plain": [
       "   fare_amount  fare_class  passenger_count  Dist in kms  day_name  \\\n",
       "0          6.5           0                1         1.93    Sunday   \n",
       "1          6.9           0                1         1.77    Friday   \n",
       "2         10.1           1                2         3.82    Friday   \n",
       "3          8.9           0                1         2.16  Saturday   \n",
       "4         19.7           1                1         9.46    Friday   \n",
       "\n",
       "   day_name_ranked  IsWeekend  Hour  day_of_month  hour_type  \n",
       "0                1          1     8            19          2  \n",
       "1                5          0    15            17          2  \n",
       "2                5          0    11            17          2  \n",
       "3                2          1    21            11          2  \n",
       "4                5          0     2            17          2  "
      ]
     },
     "execution_count": 33,
     "metadata": {},
     "output_type": "execute_result"
    }
   ],
   "source": [
    "df.head()"
   ]
  },
  {
   "cell_type": "code",
   "execution_count": 34,
   "id": "2b3c55e1",
   "metadata": {},
   "outputs": [
    {
     "data": {
      "text/plain": [
       "24"
      ]
     },
     "execution_count": 34,
     "metadata": {},
     "output_type": "execute_result"
    }
   ],
   "source": [
    "df['Hour'].nunique()"
   ]
  },
  {
   "cell_type": "code",
   "execution_count": null,
   "id": "d7f6428d",
   "metadata": {},
   "outputs": [],
   "source": []
  },
  {
   "cell_type": "code",
   "execution_count": 35,
   "id": "79eedef7",
   "metadata": {},
   "outputs": [
    {
     "data": {
      "text/plain": [
       "<AxesSubplot:xlabel='fare_amount'>"
      ]
     },
     "execution_count": 35,
     "metadata": {},
     "output_type": "execute_result"
    },
    {
     "data": {
      "image/png": "[encoded data removed]",
      "text/plain": [
       "<Figure size 640x480 with 1 Axes>"
      ]
     },
     "metadata": {},
     "output_type": "display_data"
    }
   ],
   "source": [
    "# Outliers detection\n",
    "sns.boxplot(df['fare_amount'])\n"
   ]
  },
  {
   "cell_type": "code",
   "execution_count": 36,
   "id": "f678bd21",
   "metadata": {},
   "outputs": [
    {
     "name": "stdout",
     "output_type": "stream",
     "text": [
      "5.7 11.3\n"
     ]
    }
   ],
   "source": [
    "#Outlier treatment\n",
    "\n",
    "##1st and 3rd quarile\n",
    "Q1, Q3 =np.percentile(df['fare_amount'], [25,75])\n",
    "print(Q1,Q3)"
   ]
  },
  {
   "cell_type": "code",
   "execution_count": 37,
   "id": "a7518549",
   "metadata": {},
   "outputs": [],
   "source": [
    "##lower and upper frnce of outlier\n",
    "IQR=Q3-Q1\n",
    "upper_fence = Q3+1.5*IQR\n",
    "lower_fence = Q1-1.5*IQR"
   ]
  },
  {
   "cell_type": "code",
   "execution_count": 38,
   "id": "3cf8f34e",
   "metadata": {},
   "outputs": [],
   "source": [
    "outliers=[]"
   ]
  },
  {
   "cell_type": "code",
   "execution_count": 39,
   "id": "997ed67d",
   "metadata": {},
   "outputs": [],
   "source": [
    "## detecting outlier\n",
    "for i in df['fare_amount']:\n",
    "        fare_float = float(i)\n",
    "        if fare_float < lower_fence or fare_float > upper_fence:\n",
    "            outliers.append(fare_float)\n"
   ]
  },
  {
   "cell_type": "code",
   "execution_count": 40,
   "id": "1904b7fb",
   "metadata": {},
   "outputs": [
    {
     "name": "stdout",
     "output_type": "stream",
     "text": [
      "9353\n"
     ]
    }
   ],
   "source": [
    "print(len(outliers))"
   ]
  },
  {
   "cell_type": "code",
   "execution_count": 41,
   "id": "f3c0f9e4",
   "metadata": {},
   "outputs": [],
   "source": [
    "df = df[(df['fare_amount'] > lower_fence) & (df['fare_amount'] < upper_fence)]\n"
   ]
  },
  {
   "cell_type": "code",
   "execution_count": 42,
   "id": "ae09c21a",
   "metadata": {},
   "outputs": [
    {
     "data": {
      "text/plain": [
       "<AxesSubplot:xlabel='fare_amount'>"
      ]
     },
     "execution_count": 42,
     "metadata": {},
     "output_type": "execute_result"
    },
    {
     "data": {
      "image/png": "[encoded data removed]",
      "text/plain": [
       "<Figure size 640x480 with 1 Axes>"
      ]
     },
     "metadata": {},
     "output_type": "display_data"
    }
   ],
   "source": [
    "sns.boxplot(df['fare_amount'])"
   ]
  },
  {
   "cell_type": "code",
   "execution_count": 43,
   "id": "e7170e7d",
   "metadata": {},
   "outputs": [
    {
     "data": {
      "text/plain": [
       "<AxesSubplot:xlabel='Dist in kms'>"
      ]
     },
     "execution_count": 43,
     "metadata": {},
     "output_type": "execute_result"
    },
    {
     "data": {
      "image/png": "[encoded data removed]",
      "text/plain": [
       "<Figure size 640x480 with 1 Axes>"
      ]
     },
     "metadata": {},
     "output_type": "display_data"
    }
   ],
   "source": [
    "sns.boxplot(df['Dist in kms'])"
   ]
  },
  {
   "cell_type": "code",
   "execution_count": 44,
   "id": "0de67dc6",
   "metadata": {},
   "outputs": [
    {
     "name": "stdout",
     "output_type": "stream",
     "text": [
      "0.85 2.51\n"
     ]
    }
   ],
   "source": [
    "##1st and 3rd quarile\n",
    "q1, q3 =np.percentile(df['Dist in kms'], [25,75])\n",
    "print(q1,q3)"
   ]
  },
  {
   "cell_type": "code",
   "execution_count": 45,
   "id": "c4e48104",
   "metadata": {},
   "outputs": [],
   "source": [
    "##lower and upper frnce of outlier\n",
    "Iqr=q3-q1\n",
    "upper_fence2 = q3+1.5*Iqr\n",
    "lower_fence2 = q1-1.5*Iqr"
   ]
  },
  {
   "cell_type": "code",
   "execution_count": 46,
   "id": "92b5f70a",
   "metadata": {},
   "outputs": [],
   "source": [
    "outliers2=[]"
   ]
  },
  {
   "cell_type": "code",
   "execution_count": 47,
   "id": "2f51d472",
   "metadata": {},
   "outputs": [],
   "source": [
    "## detecting outlier\n",
    "for i in df['Dist in kms']:\n",
    "        dist_float = float(i)\n",
    "        if dist_float < lower_fence2 or dist_float > upper_fence2:\n",
    "            outliers2.append(dist_float)"
   ]
  },
  {
   "cell_type": "code",
   "execution_count": 48,
   "id": "eb5e8ff0",
   "metadata": {},
   "outputs": [
    {
     "data": {
      "text/plain": [
       "4745"
      ]
     },
     "execution_count": 48,
     "metadata": {},
     "output_type": "execute_result"
    }
   ],
   "source": [
    "len(outliers2)"
   ]
  },
  {
   "cell_type": "code",
   "execution_count": 49,
   "id": "9babb601",
   "metadata": {},
   "outputs": [],
   "source": [
    "df = df[(df['Dist in kms'] > lower_fence2) & (df['Dist in kms'] < upper_fence2)]"
   ]
  },
  {
   "cell_type": "code",
   "execution_count": null,
   "id": "4a84386a",
   "metadata": {},
   "outputs": [],
   "source": []
  },
  {
   "cell_type": "code",
   "execution_count": null,
   "id": "f8815cb9",
   "metadata": {},
   "outputs": [],
   "source": []
  },
  {
   "cell_type": "code",
   "execution_count": null,
   "id": "94f2521a",
   "metadata": {},
   "outputs": [],
   "source": []
  },
  {
   "cell_type": "code",
   "execution_count": 50,
   "id": "e25dee39",
   "metadata": {},
   "outputs": [
    {
     "data": {
      "text/plain": [
       "105902"
      ]
     },
     "execution_count": 50,
     "metadata": {},
     "output_type": "execute_result"
    }
   ],
   "source": [
    "df['fare_amount'].count()"
   ]
  },
  {
   "cell_type": "code",
   "execution_count": 51,
   "id": "f5b643ec",
   "metadata": {},
   "outputs": [],
   "source": [
    "# Standarization"
   ]
  },
  {
   "cell_type": "code",
   "execution_count": 52,
   "id": "8d1a952d",
   "metadata": {},
   "outputs": [],
   "source": [
    "from sklearn.preprocessing import MinMaxScaler\n"
   ]
  },
  {
   "cell_type": "code",
   "execution_count": 53,
   "id": "7928c892",
   "metadata": {},
   "outputs": [],
   "source": [
    "# Extract the columns to be standardized\n",
    "columns_to_standardize = ['Dist in kms', 'fare_amount', 'passenger_count']\n",
    "data_to_standardize = df[columns_to_standardize]\n",
    "\n",
    "# Initialize the StandardScaler\n",
    "scaler = MinMaxScaler()\n",
    "\n",
    "# Fit and transform the data\n",
    "df[columns_to_standardize] = scaler.fit_transform(data_to_standardize)\n"
   ]
  },
  {
   "cell_type": "code",
   "execution_count": 54,
   "id": "8aa990fb",
   "metadata": {},
   "outputs": [
    {
     "data": {
      "text/html": [
       "<div>\n",
       "<style scoped>\n",
       "    .dataframe tbody tr th:only-of-type {\n",
       "        vertical-align: middle;\n",
       "    }\n",
       "\n",
       "    .dataframe tbody tr th {\n",
       "        vertical-align: top;\n",
       "    }\n",
       "\n",
       "    .dataframe thead th {\n",
       "        text-align: right;\n",
       "    }\n",
       "</style>\n",
       "<table border=\"1\" class=\"dataframe\">\n",
       "  <thead>\n",
       "    <tr style=\"text-align: right;\">\n",
       "      <th></th>\n",
       "      <th>fare_amount</th>\n",
       "      <th>fare_class</th>\n",
       "      <th>passenger_count</th>\n",
       "      <th>Dist in kms</th>\n",
       "      <th>day_name</th>\n",
       "      <th>day_name_ranked</th>\n",
       "      <th>IsWeekend</th>\n",
       "      <th>Hour</th>\n",
       "      <th>day_of_month</th>\n",
       "      <th>hour_type</th>\n",
       "    </tr>\n",
       "  </thead>\n",
       "  <tbody>\n",
       "    <tr>\n",
       "      <th>0</th>\n",
       "      <td>0.232558</td>\n",
       "      <td>0</td>\n",
       "      <td>0.00</td>\n",
       "      <td>0.386774</td>\n",
       "      <td>Sunday</td>\n",
       "      <td>1</td>\n",
       "      <td>1</td>\n",
       "      <td>8</td>\n",
       "      <td>19</td>\n",
       "      <td>2</td>\n",
       "    </tr>\n",
       "    <tr>\n",
       "      <th>1</th>\n",
       "      <td>0.255814</td>\n",
       "      <td>0</td>\n",
       "      <td>0.00</td>\n",
       "      <td>0.354709</td>\n",
       "      <td>Friday</td>\n",
       "      <td>5</td>\n",
       "      <td>0</td>\n",
       "      <td>15</td>\n",
       "      <td>17</td>\n",
       "      <td>2</td>\n",
       "    </tr>\n",
       "    <tr>\n",
       "      <th>2</th>\n",
       "      <td>0.441860</td>\n",
       "      <td>1</td>\n",
       "      <td>0.25</td>\n",
       "      <td>0.765531</td>\n",
       "      <td>Friday</td>\n",
       "      <td>5</td>\n",
       "      <td>0</td>\n",
       "      <td>11</td>\n",
       "      <td>17</td>\n",
       "      <td>2</td>\n",
       "    </tr>\n",
       "    <tr>\n",
       "      <th>3</th>\n",
       "      <td>0.372093</td>\n",
       "      <td>0</td>\n",
       "      <td>0.00</td>\n",
       "      <td>0.432866</td>\n",
       "      <td>Saturday</td>\n",
       "      <td>2</td>\n",
       "      <td>1</td>\n",
       "      <td>21</td>\n",
       "      <td>11</td>\n",
       "      <td>2</td>\n",
       "    </tr>\n",
       "    <tr>\n",
       "      <th>5</th>\n",
       "      <td>0.325581</td>\n",
       "      <td>0</td>\n",
       "      <td>0.00</td>\n",
       "      <td>0.126253</td>\n",
       "      <td>Wednesday</td>\n",
       "      <td>6</td>\n",
       "      <td>0</td>\n",
       "      <td>8</td>\n",
       "      <td>22</td>\n",
       "      <td>2</td>\n",
       "    </tr>\n",
       "  </tbody>\n",
       "</table>\n",
       "</div>"
      ],
      "text/plain": [
       "   fare_amount  fare_class  passenger_count  Dist in kms   day_name  \\\n",
       "0     0.232558           0             0.00     0.386774     Sunday   \n",
       "1     0.255814           0             0.00     0.354709     Friday   \n",
       "2     0.441860           1             0.25     0.765531     Friday   \n",
       "3     0.372093           0             0.00     0.432866   Saturday   \n",
       "5     0.325581           0             0.00     0.126253  Wednesday   \n",
       "\n",
       "   day_name_ranked  IsWeekend  Hour  day_of_month  hour_type  \n",
       "0                1          1     8            19          2  \n",
       "1                5          0    15            17          2  \n",
       "2                5          0    11            17          2  \n",
       "3                2          1    21            11          2  \n",
       "5                6          0     8            22          2  "
      ]
     },
     "execution_count": 54,
     "metadata": {},
     "output_type": "execute_result"
    }
   ],
   "source": [
    "# Display the DataFrame with standardized column\n",
    "df.head()"
   ]
  },
  {
   "cell_type": "code",
   "execution_count": 55,
   "id": "11ca5624",
   "metadata": {},
   "outputs": [
    {
     "name": "stdout",
     "output_type": "stream",
     "text": [
      "Skewness of fare_amount: 0.9868279662728698\n"
     ]
    }
   ],
   "source": [
    "from scipy.stats import skew\n",
    "\n",
    "# Calculate skewness\n",
    "fare_amount_skewness = skew(df['fare_amount'])\n",
    "\n",
    "# Display the skewness\n",
    "print(f\"Skewness of fare_amount: {fare_amount_skewness}\")"
   ]
  },
  {
   "cell_type": "code",
   "execution_count": 56,
   "id": "2dbb0757",
   "metadata": {},
   "outputs": [
    {
     "data": {
      "text/html": [
       "<div>\n",
       "<style scoped>\n",
       "    .dataframe tbody tr th:only-of-type {\n",
       "        vertical-align: middle;\n",
       "    }\n",
       "\n",
       "    .dataframe tbody tr th {\n",
       "        vertical-align: top;\n",
       "    }\n",
       "\n",
       "    .dataframe thead th {\n",
       "        text-align: right;\n",
       "    }\n",
       "</style>\n",
       "<table border=\"1\" class=\"dataframe\">\n",
       "  <thead>\n",
       "    <tr style=\"text-align: right;\">\n",
       "      <th></th>\n",
       "      <th>fare_amount</th>\n",
       "      <th>fare_class</th>\n",
       "      <th>passenger_count</th>\n",
       "      <th>Dist in kms</th>\n",
       "      <th>day_name</th>\n",
       "      <th>day_name_ranked</th>\n",
       "      <th>IsWeekend</th>\n",
       "      <th>Hour</th>\n",
       "      <th>day_of_month</th>\n",
       "      <th>hour_type</th>\n",
       "    </tr>\n",
       "  </thead>\n",
       "  <tbody>\n",
       "    <tr>\n",
       "      <th>0</th>\n",
       "      <td>0.232558</td>\n",
       "      <td>0</td>\n",
       "      <td>0.00</td>\n",
       "      <td>0.386774</td>\n",
       "      <td>Sunday</td>\n",
       "      <td>1</td>\n",
       "      <td>1</td>\n",
       "      <td>8</td>\n",
       "      <td>19</td>\n",
       "      <td>2</td>\n",
       "    </tr>\n",
       "    <tr>\n",
       "      <th>1</th>\n",
       "      <td>0.255814</td>\n",
       "      <td>0</td>\n",
       "      <td>0.00</td>\n",
       "      <td>0.354709</td>\n",
       "      <td>Friday</td>\n",
       "      <td>5</td>\n",
       "      <td>0</td>\n",
       "      <td>15</td>\n",
       "      <td>17</td>\n",
       "      <td>2</td>\n",
       "    </tr>\n",
       "    <tr>\n",
       "      <th>2</th>\n",
       "      <td>0.441860</td>\n",
       "      <td>1</td>\n",
       "      <td>0.25</td>\n",
       "      <td>0.765531</td>\n",
       "      <td>Friday</td>\n",
       "      <td>5</td>\n",
       "      <td>0</td>\n",
       "      <td>11</td>\n",
       "      <td>17</td>\n",
       "      <td>2</td>\n",
       "    </tr>\n",
       "    <tr>\n",
       "      <th>3</th>\n",
       "      <td>0.372093</td>\n",
       "      <td>0</td>\n",
       "      <td>0.00</td>\n",
       "      <td>0.432866</td>\n",
       "      <td>Saturday</td>\n",
       "      <td>2</td>\n",
       "      <td>1</td>\n",
       "      <td>21</td>\n",
       "      <td>11</td>\n",
       "      <td>2</td>\n",
       "    </tr>\n",
       "    <tr>\n",
       "      <th>5</th>\n",
       "      <td>0.325581</td>\n",
       "      <td>0</td>\n",
       "      <td>0.00</td>\n",
       "      <td>0.126253</td>\n",
       "      <td>Wednesday</td>\n",
       "      <td>6</td>\n",
       "      <td>0</td>\n",
       "      <td>8</td>\n",
       "      <td>22</td>\n",
       "      <td>2</td>\n",
       "    </tr>\n",
       "  </tbody>\n",
       "</table>\n",
       "</div>"
      ],
      "text/plain": [
       "   fare_amount  fare_class  passenger_count  Dist in kms   day_name  \\\n",
       "0     0.232558           0             0.00     0.386774     Sunday   \n",
       "1     0.255814           0             0.00     0.354709     Friday   \n",
       "2     0.441860           1             0.25     0.765531     Friday   \n",
       "3     0.372093           0             0.00     0.432866   Saturday   \n",
       "5     0.325581           0             0.00     0.126253  Wednesday   \n",
       "\n",
       "   day_name_ranked  IsWeekend  Hour  day_of_month  hour_type  \n",
       "0                1          1     8            19          2  \n",
       "1                5          0    15            17          2  \n",
       "2                5          0    11            17          2  \n",
       "3                2          1    21            11          2  \n",
       "5                6          0     8            22          2  "
      ]
     },
     "execution_count": 56,
     "metadata": {},
     "output_type": "execute_result"
    }
   ],
   "source": [
    "df.head()"
   ]
  },
  {
   "cell_type": "markdown",
   "id": "53848214",
   "metadata": {},
   "source": [
    "### Train Test Split"
   ]
  },
  {
   "cell_type": "code",
   "execution_count": 57,
   "id": "c5c02a97",
   "metadata": {},
   "outputs": [],
   "source": [
    "from sklearn.model_selection import train_test_split"
   ]
  },
  {
   "cell_type": "code",
   "execution_count": 58,
   "id": "5ecdafb3",
   "metadata": {},
   "outputs": [],
   "source": [
    "columns_to_drop = ['fare_amount', 'day_name', 'day_name_ranked', 'Hour', 'day_of_month']\n",
    "x = df.drop(columns=columns_to_drop, axis=1)"
   ]
  },
  {
   "cell_type": "code",
   "execution_count": 75,
   "id": "b30f61a2",
   "metadata": {},
   "outputs": [
    {
     "data": {
      "text/html": [
       "<div>\n",
       "<style scoped>\n",
       "    .dataframe tbody tr th:only-of-type {\n",
       "        vertical-align: middle;\n",
       "    }\n",
       "\n",
       "    .dataframe tbody tr th {\n",
       "        vertical-align: top;\n",
       "    }\n",
       "\n",
       "    .dataframe thead th {\n",
       "        text-align: right;\n",
       "    }\n",
       "</style>\n",
       "<table border=\"1\" class=\"dataframe\">\n",
       "  <thead>\n",
       "    <tr style=\"text-align: right;\">\n",
       "      <th></th>\n",
       "      <th>fare_class</th>\n",
       "      <th>passenger_count</th>\n",
       "      <th>Dist in kms</th>\n",
       "      <th>IsWeekend</th>\n",
       "      <th>hour_type</th>\n",
       "    </tr>\n",
       "  </thead>\n",
       "  <tbody>\n",
       "    <tr>\n",
       "      <th>0</th>\n",
       "      <td>0</td>\n",
       "      <td>0.00</td>\n",
       "      <td>0.386774</td>\n",
       "      <td>1</td>\n",
       "      <td>2</td>\n",
       "    </tr>\n",
       "    <tr>\n",
       "      <th>1</th>\n",
       "      <td>0</td>\n",
       "      <td>0.00</td>\n",
       "      <td>0.354709</td>\n",
       "      <td>0</td>\n",
       "      <td>2</td>\n",
       "    </tr>\n",
       "    <tr>\n",
       "      <th>2</th>\n",
       "      <td>1</td>\n",
       "      <td>0.25</td>\n",
       "      <td>0.765531</td>\n",
       "      <td>0</td>\n",
       "      <td>2</td>\n",
       "    </tr>\n",
       "    <tr>\n",
       "      <th>3</th>\n",
       "      <td>0</td>\n",
       "      <td>0.00</td>\n",
       "      <td>0.432866</td>\n",
       "      <td>1</td>\n",
       "      <td>2</td>\n",
       "    </tr>\n",
       "    <tr>\n",
       "      <th>5</th>\n",
       "      <td>0</td>\n",
       "      <td>0.00</td>\n",
       "      <td>0.126253</td>\n",
       "      <td>0</td>\n",
       "      <td>2</td>\n",
       "    </tr>\n",
       "  </tbody>\n",
       "</table>\n",
       "</div>"
      ],
      "text/plain": [
       "   fare_class  passenger_count  Dist in kms  IsWeekend  hour_type\n",
       "0           0             0.00     0.386774          1          2\n",
       "1           0             0.00     0.354709          0          2\n",
       "2           1             0.25     0.765531          0          2\n",
       "3           0             0.00     0.432866          1          2\n",
       "5           0             0.00     0.126253          0          2"
      ]
     },
     "execution_count": 75,
     "metadata": {},
     "output_type": "execute_result"
    }
   ],
   "source": [
    "x.head()"
   ]
  },
  {
   "cell_type": "code",
   "execution_count": null,
   "id": "b68141b6",
   "metadata": {},
   "outputs": [],
   "source": []
  },
  {
   "cell_type": "code",
   "execution_count": 59,
   "id": "752b76e1",
   "metadata": {},
   "outputs": [],
   "source": [
    "y=df['fare_amount']"
   ]
  },
  {
   "cell_type": "code",
   "execution_count": 60,
   "id": "72baa996",
   "metadata": {},
   "outputs": [],
   "source": [
    "xtrain,xtest,ytrain,ytest=train_test_split(x,y,test_size=0.2,random_state=1)"
   ]
  },
  {
   "cell_type": "code",
   "execution_count": 61,
   "id": "918b1b46",
   "metadata": {},
   "outputs": [],
   "source": [
    "#User-defined function for evaluation metrics\n",
    "\n",
    "def reg_metrics(actual,pred):\n",
    "    r2=r2_score(actual,pred)\n",
    "    mse=mean_squared_error(actual,pred)\n",
    "    mae=mean_absolute_error(actual,pred)\n",
    "    rmse=mean_squared_error(actual,pred,squared=False)\n",
    "    print('R^2 Error : ',round(r2,4))\n",
    "    print('MSE  : ',round(mse,4))\n",
    "    print('MAE  : ',round(mae,4))\n",
    "    print('RMSE : ',round(rmse,4),'\\n')"
   ]
  },
  {
   "cell_type": "markdown",
   "id": "27544621",
   "metadata": {},
   "source": [
    "### Model Building"
   ]
  },
  {
   "cell_type": "code",
   "execution_count": 62,
   "id": "7ac721c2",
   "metadata": {},
   "outputs": [],
   "source": [
    "from sklearn.linear_model import LinearRegression\n",
    "from sklearn.tree import DecisionTreeRegressor\n",
    "from sklearn.ensemble import RandomForestRegressor,AdaBoostRegressor,GradientBoostingRegressor\n",
    "from sklearn.metrics import mean_squared_error,mean_absolute_error,mean_squared_log_error,r2_score"
   ]
  },
  {
   "cell_type": "markdown",
   "id": "73b96b1c",
   "metadata": {},
   "source": [
    "##### Linear Regression"
   ]
  },
  {
   "cell_type": "code",
   "execution_count": 63,
   "id": "d69bee3a",
   "metadata": {},
   "outputs": [
    {
     "name": "stdout",
     "output_type": "stream",
     "text": [
      "R^2 Error :  0.739\n",
      "MSE  :  0.01\n",
      "MAE  :  0.0787\n",
      "RMSE :  0.1001 \n",
      "\n",
      "R^2 Error :  0.7387\n",
      "MSE  :  0.0101\n",
      "MAE  :  0.0792\n",
      "RMSE :  0.1005 \n",
      "\n"
     ]
    }
   ],
   "source": [
    "lr=LinearRegression()\n",
    "lr.fit(xtrain,ytrain)\n",
    "train_lr=lr.predict(xtrain)\n",
    "test_lr=lr.predict(xtest)\n",
    "reg_metrics(ytrain,train_lr)\n",
    "reg_metrics(ytest,test_lr)"
   ]
  },
  {
   "cell_type": "markdown",
   "id": "43b6ad45",
   "metadata": {},
   "source": [
    "##### Decision Tree"
   ]
  },
  {
   "cell_type": "code",
   "execution_count": 64,
   "id": "9f6ea9d2",
   "metadata": {},
   "outputs": [
    {
     "name": "stdout",
     "output_type": "stream",
     "text": [
      "R^2 Error :  0.7607\n",
      "MSE  :  0.0092\n",
      "MAE  :  0.0749\n",
      "RMSE :  0.0959 \n",
      "\n",
      "R^2 Error :  0.7567\n",
      "MSE  :  0.0094\n",
      "MAE  :  0.076\n",
      "RMSE :  0.097 \n",
      "\n"
     ]
    }
   ],
   "source": [
    "dt=DecisionTreeRegressor(max_depth=9,min_samples_split=15,min_samples_leaf=15)\n",
    "dt.fit(xtrain,ytrain)\n",
    "train_dt=dt.predict(xtrain)\n",
    "test_dt=dt.predict(xtest)\n",
    "reg_metrics(ytrain,train_dt)\n",
    "reg_metrics(ytest,test_dt)"
   ]
  },
  {
   "cell_type": "markdown",
   "id": "c3dab914",
   "metadata": {},
   "source": [
    "##### Random Forest"
   ]
  },
  {
   "cell_type": "code",
   "execution_count": 65,
   "id": "9617e45e",
   "metadata": {},
   "outputs": [
    {
     "name": "stdout",
     "output_type": "stream",
     "text": [
      "R^2 Error :  0.7651\n",
      "MSE  :  0.009\n",
      "MAE  :  0.0742\n",
      "RMSE :  0.095 \n",
      "\n",
      "R^2 Error :  0.7563\n",
      "MSE  :  0.0094\n",
      "MAE  :  0.0761\n",
      "RMSE :  0.0971 \n",
      "\n"
     ]
    }
   ],
   "source": [
    "rf=RandomForestRegressor(n_estimators=300,n_jobs=-1,max_depth=17,min_samples_split=17,min_samples_leaf=17)\n",
    "rf.fit(xtrain,ytrain)\n",
    "train_rf=rf.predict(xtrain)\n",
    "test_rf=rf.predict(xtest)\n",
    "reg_metrics(ytrain,train_rf)\n",
    "reg_metrics(ytest,test_rf)"
   ]
  },
  {
   "cell_type": "markdown",
   "id": "e4307baa",
   "metadata": {},
   "source": [
    "##### AdaBoost"
   ]
  },
  {
   "cell_type": "code",
   "execution_count": 66,
   "id": "8883870e",
   "metadata": {},
   "outputs": [
    {
     "name": "stdout",
     "output_type": "stream",
     "text": [
      "R^2 Error :  0.75\n",
      "MSE  :  0.0096\n",
      "MAE  :  0.0776\n",
      "RMSE :  0.098 \n",
      "\n",
      "R^2 Error :  0.7498\n",
      "MSE  :  0.0097\n",
      "MAE  :  0.0782\n",
      "RMSE :  0.0984 \n",
      "\n"
     ]
    }
   ],
   "source": [
    "\n",
    "ada=AdaBoostRegressor(learning_rate=0.01,n_estimators=100)\n",
    "ada.fit(xtrain,ytrain)\n",
    "train_ada=ada.predict(xtrain)\n",
    "test_ada=ada.predict(xtest)\n",
    "reg_metrics(ytrain,train_ada)\n",
    "reg_metrics(ytest,test_ada)"
   ]
  },
  {
   "cell_type": "markdown",
   "id": "700821c7",
   "metadata": {},
   "source": [
    "##### Gradient Boost"
   ]
  },
  {
   "cell_type": "code",
   "execution_count": 67,
   "id": "1561ecd6",
   "metadata": {},
   "outputs": [
    {
     "name": "stdout",
     "output_type": "stream",
     "text": [
      "R^2 Error :  0.7628\n",
      "MSE  :  0.0091\n",
      "MAE  :  0.0746\n",
      "RMSE :  0.0954 \n",
      "\n",
      "R^2 Error :  0.7578\n",
      "MSE  :  0.0094\n",
      "MAE  :  0.0758\n",
      "RMSE :  0.0968 \n",
      "\n"
     ]
    }
   ],
   "source": [
    "gb=GradientBoostingRegressor(n_estimators=200,max_depth=6,min_samples_split=13,min_samples_leaf=14)\n",
    "gb.fit(xtrain,ytrain)\n",
    "train_gb=gb.predict(xtrain)\n",
    "test_gb=gb.predict(xtest)\n",
    "reg_metrics(ytrain,train_gb)\n",
    "reg_metrics(ytest,test_gb)"
   ]
  },
  {
   "cell_type": "markdown",
   "id": "f3979922",
   "metadata": {},
   "source": [
    "##### Plotting the scores of all models"
   ]
  },
  {
   "cell_type": "code",
   "execution_count": 68,
   "id": "0ce2663f",
   "metadata": {},
   "outputs": [],
   "source": [
    "acc=pd.DataFrame({'models':['Linear Reg','Dtree','Random forest','AdaBoost','Gradient Boost'],\n",
    "                  'r2':[round(r2_score(ytest,test_lr),2),round(r2_score(ytest,test_dt),2),round(r2_score(ytest,test_rf),2),round(r2_score(ytest,test_ada),2),round(r2_score(ytest,test_gb),2)]})\n",
    "acc.sort_values(inplace=True,by='r2')"
   ]
  },
  {
   "cell_type": "code",
   "execution_count": 69,
   "id": "5a740283",
   "metadata": {},
   "outputs": [
    {
     "data": {
      "image/png": "[encoded data removed]",
      "text/plain": [
       "<Figure size 1500x400 with 1 Axes>"
      ]
     },
     "metadata": {},
     "output_type": "display_data"
    }
   ],
   "source": [
    "plt.figure(figsize=(15,4))\n",
    "ax=sns.barplot(x='r2',y='models',data=acc,palette='ch:.120')\n",
    "ax.bar_label(ax.containers[0])\n",
    "plt.show()"
   ]
  },
  {
   "cell_type": "markdown",
   "id": "20107fbe",
   "metadata": {},
   "source": [
    "##### Both Gradient Boost and Random forest works well"
   ]
  },
  {
   "cell_type": "code",
   "execution_count": null,
   "id": "270773d6",
   "metadata": {},
   "outputs": [],
   "source": []
  },
  {
   "cell_type": "markdown",
   "id": "77d79de0",
   "metadata": {},
   "source": [
    "###### User-defined function for finding latitude and longitude from location entered by user"
   ]
  },
  {
   "cell_type": "code",
   "execution_count": 70,
   "id": "6413dc4f",
   "metadata": {},
   "outputs": [],
   "source": [
    "def lon_lat(pickup,drop):\n",
    "    pick = geocode(pickup)\n",
    "    drp=geocode(drop)\n",
    "    pick_point = pick.geometry.iloc[0]\n",
    "    drp_point=drp.geometry.iloc[0]\n",
    "    pick_lat, pick_lon = pick_point.y, pick_point.x\n",
    "    drp_lat,drop_lon=drp_point.y,drp_point.x\n",
    "    return dist(pick_lon,drop_lon,pick_lat,drp_lat)"
   ]
  },
  {
   "cell_type": "markdown",
   "id": "95578068",
   "metadata": {},
   "source": [
    "###### User Defined function for finding current day, hour, month for passing to the model"
   ]
  },
  {
   "cell_type": "code",
   "execution_count": 71,
   "id": "d591afe3",
   "metadata": {},
   "outputs": [],
   "source": [
    "def dtime():\n",
    "    curr=dte.datetime.now()\n",
    "    month=curr.day\n",
    "    Hour=curr.hour\n",
    "    wd=pd.Series([curr.strftime('%A')])\n",
    "    wd=wd.map(week_encoded)\n",
    "    day_name=wd[0]\n",
    "    return day_name,Hour,month"
   ]
  },
  {
   "cell_type": "code",
   "execution_count": 72,
   "id": "e6d6f41b",
   "metadata": {},
   "outputs": [],
   "source": [
    "#creating Pickle\n",
    "\n",
    "model_filename = 'E:/Ivy/Ivy_Python/Machine Learning/ML_projects/random_forest_regression_model.pkl'"
   ]
  },
  {
   "cell_type": "code",
   "execution_count": 73,
   "id": "7112240f",
   "metadata": {},
   "outputs": [],
   "source": [
    "with open(model_filename, 'wb') as file:\n",
    "    pickle.dump(rf, file)"
   ]
  },
  {
   "cell_type": "code",
   "execution_count": null,
   "id": "99ef983c",
   "metadata": {},
   "outputs": [],
   "source": []
  },
  {
   "cell_type": "code",
   "execution_count": null,
   "id": "8aae484b",
   "metadata": {},
   "outputs": [],
   "source": []
  },
  {
   "cell_type": "code",
   "execution_count": 74,
   "id": "6f9845dc",
   "metadata": {},
   "outputs": [
    {
     "name": "stdout",
     "output_type": "stream",
     "text": [
      "C:\\Users\\SAYAN\n"
     ]
    }
   ],
   "source": [
    "import os\n",
    "print(os.getcwd())"
   ]
  },
  {
   "cell_type": "code",
   "execution_count": null,
   "id": "946f8245",
   "metadata": {},
   "outputs": [],
   "source": []
  }
 ],
 "metadata": {
  "kernelspec": {
   "display_name": "Python 3 (ipykernel)",
   "language": "python",
   "name": "python3"
  },
  "language_info": {
   "codemirror_mode": {
    "name": "ipython",
    "version": 3
   },
   "file_extension": ".py",
   "mimetype": "text/x-python",
   "name": "python",
   "nbconvert_exporter": "python",
   "pygments_lexer": "ipython3",
   "version": "3.9.13"
  }
 },
 "nbformat": 4,
 "nbformat_minor": 5
}
